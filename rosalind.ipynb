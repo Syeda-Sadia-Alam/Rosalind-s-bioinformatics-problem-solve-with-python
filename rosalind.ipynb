{
  "nbformat": 4,
  "nbformat_minor": 0,
  "metadata": {
    "colab": {
      "provenance": [],
      "authorship_tag": "ABX9TyPh5fD4Y4FgN2xB+8GGlQPG",
      "include_colab_link": true
    },
    "kernelspec": {
      "name": "python3",
      "display_name": "Python 3"
    },
    "language_info": {
      "name": "python"
    }
  },
  "cells": [
    {
      "cell_type": "markdown",
      "metadata": {
        "id": "view-in-github",
        "colab_type": "text"
      },
      "source": [
        "<a href=\"https://colab.research.google.com/github/Syeda-Sadia-Alam/Rosalind-s-bioinformatics-problem-solve-with-python/blob/main/rosalind.ipynb\" target=\"_parent\"><img src=\"https://colab.research.google.com/assets/colab-badge.svg\" alt=\"Open In Colab\"/></a>"
      ]
    },
    {
      "cell_type": "markdown",
      "source": [
        "BA1A(Compute the Number of Times a Pattern Appears in a TexT)"
      ],
      "metadata": {
        "id": "btDYoxiUT-_3"
      }
    },
    {
      "cell_type": "code",
      "source": [
        "def patternCount(text , pattern):\n",
        "    cnt = 0\n",
        "    for i in range(len(text)-len(pattern)+1):\n",
        "        if text[i:i+len(pattern)] == pattern:\n",
        "            cnt += 1\n",
        "    print(cnt)\n",
        "    return \n",
        "\n",
        "\n",
        "\n",
        "\n",
        "\n"
      ],
      "metadata": {
        "id": "vWnwbWIoRiiE"
      },
      "execution_count": 1,
      "outputs": []
    },
    {
      "cell_type": "code",
      "source": [
        "text = input()\n",
        "pattern = input()\n",
        "patternCount(text , pattern)"
      ],
      "metadata": {
        "colab": {
          "base_uri": "https://localhost:8080/"
        },
        "id": "zCfpnlIyUlPs",
        "outputId": "7f3f681d-d27a-40ee-b7a4-55ceeb18f8f1"
      },
      "execution_count": 2,
      "outputs": [
        {
          "output_type": "stream",
          "name": "stdout",
          "text": [
            "GCGCG\n",
            "GCG\n",
            "2\n"
          ]
        }
      ]
    },
    {
      "cell_type": "markdown",
      "source": [
        "BA1B (Find the Most Frequent Words in a String )"
      ],
      "metadata": {
        "id": "qFRoyFwS4SZC"
      }
    },
    {
      "cell_type": "code",
      "source": [
        "def frequent_word_count(text, k):\n",
        "    word_count = {}\n",
        "    for i in range(len(text)-k+1):\n",
        "        if text[i:i+k] not in word_count:\n",
        "            word_count[text[i:i+k]] = 0\n",
        "        word_count[text[i:i+k]] += 1\n",
        "    frequent_count = max(word_count.values())\n",
        "    for k,v in word_count.items():\n",
        "        if v==frequent_count:\n",
        "           print(k, end=\" \")\n",
        "         "
      ],
      "metadata": {
        "id": "DwdQwoKC4Msf"
      },
      "execution_count": null,
      "outputs": []
    },
    {
      "cell_type": "code",
      "source": [
        "text = input()\n",
        "k = int(input())\n",
        "frequent_word_count(text, k)"
      ],
      "metadata": {
        "colab": {
          "base_uri": "https://localhost:8080/"
        },
        "id": "xzFzRWP14z1T",
        "outputId": "30ca55be-debc-47b5-86ad-c5afa54e8a24"
      },
      "execution_count": null,
      "outputs": [
        {
          "output_type": "stream",
          "name": "stdout",
          "text": [
            "ACGTTGCATGTCGCATGATGCATGAGAGCT\n",
            "4\n",
            "GCAT CATG "
          ]
        }
      ]
    },
    {
      "cell_type": "markdown",
      "source": [
        "BA1C(Find the Reverse Complement of a String)"
      ],
      "metadata": {
        "id": "nyVqIbcG4QQ8"
      }
    },
    {
      "cell_type": "code",
      "source": [
        "def reverse_complement(string):\n",
        "    i =0\n",
        "    string2=\"\"\n",
        "    while i < len(string):\n",
        "        if string[i]==\"A\":\n",
        "            string2 += \"T\"\n",
        "        elif string[i] ==\"T\":\n",
        "            string2 += \"A\"\n",
        "        elif string[i] ==\"C\":\n",
        "            string2 += \"G\"\n",
        "        elif string[i] ==\"G\":\n",
        "            string2 += \"C\"\n",
        "        i += 1\n",
        "    print(string2[::-1])\n",
        "    return "
      ],
      "metadata": {
        "id": "YGr7yrfZVnam"
      },
      "execution_count": 3,
      "outputs": []
    },
    {
      "cell_type": "code",
      "source": [
        "string = input()\n",
        "reverse_complement(string)"
      ],
      "metadata": {
        "colab": {
          "base_uri": "https://localhost:8080/"
        },
        "id": "fZIUBPPeV8xV",
        "outputId": "d7c8fc3c-a0dc-4d21-a221-9b60a67863f0"
      },
      "execution_count": 4,
      "outputs": [
        {
          "output_type": "stream",
          "name": "stdout",
          "text": [
            "AAAACCCGGT\n",
            "ACCGGGTTTT\n"
          ]
        }
      ]
    },
    {
      "cell_type": "markdown",
      "source": [
        "BA1D(Find All Occurrences of a Pattern in a String)"
      ],
      "metadata": {
        "id": "-RJjaPC4WkPp"
      }
    },
    {
      "cell_type": "code",
      "source": [
        "def occurence(st , pt):\n",
        "    for i in range(0 , len(st)-len(pt)+1):\n",
        "        if st[i : i+len(pt)] == pt:\n",
        "            print(i ,end=' ')\n",
        "    return 0"
      ],
      "metadata": {
        "id": "LFlu_Xn5WtEE"
      },
      "execution_count": 7,
      "outputs": []
    },
    {
      "cell_type": "code",
      "source": [
        "st = input()\n",
        "pt = input()\n",
        "occurence(st , pt)\n"
      ],
      "metadata": {
        "colab": {
          "base_uri": "https://localhost:8080/"
        },
        "id": "He1eWP14WzSs",
        "outputId": "1bcde3fa-762a-438a-a42d-c44c72c353da"
      },
      "execution_count": 8,
      "outputs": [
        {
          "output_type": "stream",
          "name": "stdout",
          "text": [
            "GATATATGCATATACTT\n",
            "ATAT\n",
            "1 3 9 "
          ]
        },
        {
          "output_type": "execute_result",
          "data": {
            "text/plain": [
              "0"
            ]
          },
          "metadata": {},
          "execution_count": 8
        }
      ]
    },
    {
      "cell_type": "markdown",
      "source": [
        "BA1E(Find Patterns Forming Clumps in a String )"
      ],
      "metadata": {
        "id": "Nd4misY-X0bt"
      }
    },
    {
      "cell_type": "code",
      "source": [
        "def clump_find(string, k, L, t):\n",
        "    res = []\n",
        "    for i in range(len(string)-L+1):\n",
        "        for j in range(i, i+L-k):\n",
        "            if string[i:i+L].count(string[j:j+k]) == t:\n",
        "                res.append(string[j:j+k])\n",
        "    res = list(set(res))\n",
        "    return res\n"
      ],
      "metadata": {
        "id": "w53CGY6iX7rS"
      },
      "execution_count": 9,
      "outputs": []
    },
    {
      "cell_type": "code",
      "source": [
        "string = input()\n",
        "k = int(input())\n",
        "L = int(input())\n",
        "t = int(input())\n",
        "print(clump_find(string, k, L, t))"
      ],
      "metadata": {
        "colab": {
          "base_uri": "https://localhost:8080/"
        },
        "id": "O5cPBQt9YCRE",
        "outputId": "e83db8cb-3c04-4532-d851-66d64c53d63a"
      },
      "execution_count": 11,
      "outputs": [
        {
          "output_type": "stream",
          "name": "stdout",
          "text": [
            "CGGACTCGACAGATGTGAAGAAATGTGAAGACTGAGTGAAGAGAAGAGGAAACACGACACGACATTGCGACATAATGTACGAATGTAATGTGCCTATGGC\n",
            "5\n",
            "75\n",
            "4\n",
            "['CGACA', 'AATGT', 'GAAGA']\n"
          ]
        }
      ]
    },
    {
      "cell_type": "markdown",
      "source": [
        "ROSALIND(BA1F)Find a Position in a Genome Minimizing the Skew "
      ],
      "metadata": {
        "id": "TEY6zjx4d5K3"
      }
    },
    {
      "cell_type": "code",
      "execution_count": null,
      "metadata": {
        "id": "rPwiIue5cmc5"
      },
      "outputs": [],
      "source": [
        "def  minimizeskw(ss):\n",
        "    skw = [0]\n",
        "    for i in range(len(ss)):\n",
        "        if ss[i] == \"G\":\n",
        "            skw.append(skw[-1]+1)\n",
        "        elif ss[i] == \"C\":\n",
        "            skw.append(skw[-1]-1)\n",
        "        else:\n",
        "            skw.append(skw[-1])\n",
        "    mini = min(skw)\n",
        "    for i in range(len(skw)):\n",
        "        if skw[i] == mini:\n",
        "            print(i,end=' ')\n",
        "    print()\n",
        "    return\n",
        "    "
      ]
    },
    {
      "cell_type": "code",
      "source": [
        "ss =input()\n",
        "minimizeskw(ss)"
      ],
      "metadata": {
        "colab": {
          "base_uri": "https://localhost:8080/"
        },
        "id": "oZBjD4Vxc3H-",
        "outputId": "30e89885-3608-404a-e0cf-da2c59eb2193"
      },
      "execution_count": null,
      "outputs": [
        {
          "output_type": "stream",
          "name": "stdout",
          "text": [
            "CCTATCGGTGGATTAGCATGTCCCTGTACGTTTCGCCGCGAACTAGTTCACACGGCTTGATGGCAAATGGTTTTTCCGGCGACCGTAATCGTCCACCGAG\n",
            "53 97 \n"
          ]
        }
      ]
    },
    {
      "cell_type": "markdown",
      "source": [
        "ROSALIND-(BA1G)Compute the Hamming Distance Between Two Strings"
      ],
      "metadata": {
        "id": "Tib_ABBOfXgJ"
      }
    },
    {
      "cell_type": "code",
      "source": [
        "def hmDistance(st1,st2):\n",
        "    count = 0\n",
        "    for i in range(len(st2)):\n",
        "        if st2[i] != st1[i]:\n",
        "            count += 1\n",
        "    print(count)\n",
        "    return\n"
      ],
      "metadata": {
        "id": "3lTEnzCveHLC"
      },
      "execution_count": null,
      "outputs": []
    },
    {
      "cell_type": "code",
      "source": [
        "st1 = input()\n",
        "st2 = input()\n",
        "hmDistance(st1,st2)"
      ],
      "metadata": {
        "colab": {
          "base_uri": "https://localhost:8080/"
        },
        "id": "DgaDBoWseUOU",
        "outputId": "b43c65fe-b409-4b17-82b1-ef7af604325c"
      },
      "execution_count": null,
      "outputs": [
        {
          "output_type": "stream",
          "name": "stdout",
          "text": [
            "GGGCCGTTGGT\n",
            "GGACCGTTGAC\n",
            "3\n"
          ]
        }
      ]
    },
    {
      "cell_type": "markdown",
      "source": [
        "ROSALIND-(BA1H)Find All Approximate Occurrences of a Pattern in a String"
      ],
      "metadata": {
        "id": "jfgXvmPhfrOc"
      }
    },
    {
      "cell_type": "code",
      "source": [
        "def mismatch(pattern,string , d):\n",
        "    for i in range(len(string)-len(pattern) + 1):\n",
        "        string2 = string[i:i+len(pattern)]\n",
        "        mismatch = 0\n",
        "        for j in range(len(pattern)):\n",
        "            if pattern[j] != string2[j]:\n",
        "                mismatch +=1\n",
        "        if mismatch<=d:\n",
        "            print(i , end=' ')"
      ],
      "metadata": {
        "id": "HaouU_vLfrw9"
      },
      "execution_count": null,
      "outputs": []
    },
    {
      "cell_type": "code",
      "source": [
        "pattern = input()\n",
        "string = input()\n",
        "d = int(input())\n",
        "mismatch(pattern,string , d)"
      ],
      "metadata": {
        "colab": {
          "base_uri": "https://localhost:8080/"
        },
        "id": "OtAMtMLvgjt3",
        "outputId": "f73f78dc-0bd3-4fe8-87fe-18d3b34936bf"
      },
      "execution_count": null,
      "outputs": [
        {
          "output_type": "stream",
          "name": "stdout",
          "text": [
            "ATTCTGGA\n",
            "CGCCCGAATCCAGAACGCATTCCCATATTTCGGGACCACTGGCCTCCACGGTACGGACGTCAATCAAATGCCTAGCGGCTTGTGGTTTCTCCTACGCTCC\n",
            "3\n",
            "6 7 26 27 78 "
          ]
        }
      ]
    },
    {
      "cell_type": "markdown",
      "source": [
        "ROSALIND-(BA1K)Generate the Frequency Array of a String\n"
      ],
      "metadata": {
        "id": "bzuv2NtVj0GU"
      }
    },
    {
      "cell_type": "code",
      "source": [
        "def GenerateArray(k):\n",
        "    bases = ['A', 'C', 'G', 'T']\n",
        "    array = bases\n",
        "    for n in range(k-1):\n",
        "        array = [i+j for i in array for j in bases]\n",
        "    return array"
      ],
      "metadata": {
        "id": "qV-NTXJTj8ga"
      },
      "execution_count": null,
      "outputs": []
    },
    {
      "cell_type": "code",
      "source": [
        "def PatternCount(text, pattern):\n",
        "    count = 0\n",
        "    for i in range(len(text)-len(pattern)+1):\n",
        "        if text[i:i+len(pattern)] == pattern:\n",
        "            count += 1\n",
        "    return count"
      ],
      "metadata": {
        "id": "k1RLZZN9kYHB"
      },
      "execution_count": null,
      "outputs": []
    },
    {
      "cell_type": "code",
      "source": [
        "def ComputingFrequencyArray(text, k):\n",
        "    k_mers = GenerateArray(k)\n",
        "    for pattern in k_mers:\n",
        "        print(PatternCount(text, pattern), end=\" \")"
      ],
      "metadata": {
        "id": "b7RAlJXKkcLZ"
      },
      "execution_count": null,
      "outputs": []
    },
    {
      "cell_type": "code",
      "source": [
        "text = input()\n",
        "k = int(input())\n",
        "ComputingFrequencyArray(text, k)"
      ],
      "metadata": {
        "colab": {
          "base_uri": "https://localhost:8080/"
        },
        "id": "mRFXEggOkmH8",
        "outputId": "44829115-4ce5-4dc5-8f5c-3c9c27ff5668"
      },
      "execution_count": null,
      "outputs": [
        {
          "output_type": "stream",
          "name": "stdout",
          "text": [
            "ACGCGGCTCTGAAA\n",
            "2\n",
            "2 1 0 0 0 0 2 2 1 2 1 0 0 1 1 0 "
          ]
        }
      ]
    },
    {
      "cell_type": "markdown",
      "source": [
        "ROSALIND-(BA1L)Implement PatternToNumber"
      ],
      "metadata": {
        "id": "O-O6RQ3yni4b"
      }
    },
    {
      "cell_type": "code",
      "source": [
        "def PatternToNumber(pattern):\n",
        "    seq = {'A':0, 'C':1, 'G':2, 'T':3}\n",
        "    k = len(pattern)\n",
        "    num = 0\n",
        "    for i in range(k):\n",
        "        num += seq[pattern[i]] * pow(4, k-i-1)\n",
        "    return num\n"
      ],
      "metadata": {
        "id": "CoA4ccJhn0gb"
      },
      "execution_count": null,
      "outputs": []
    },
    {
      "cell_type": "code",
      "source": [
        "pattern =input()\n",
        "PatternToNumber(pattern)"
      ],
      "metadata": {
        "colab": {
          "base_uri": "https://localhost:8080/"
        },
        "id": "PJhpR00NoAXX",
        "outputId": "edaf5fde-f59d-4e86-f3f3-71dea8584e11"
      },
      "execution_count": null,
      "outputs": [
        {
          "name": "stdout",
          "output_type": "stream",
          "text": [
            "AGT\n"
          ]
        },
        {
          "output_type": "execute_result",
          "data": {
            "text/plain": [
              "11"
            ]
          },
          "metadata": {},
          "execution_count": 63
        }
      ]
    },
    {
      "cell_type": "markdown",
      "source": [
        "ROSALIND-(BA1M)Implement NumberToPattern "
      ],
      "metadata": {
        "id": "LihXPawYo6K7"
      }
    },
    {
      "cell_type": "code",
      "source": [
        "def NumberToPattern(index, k):\n",
        "    bases = ['A', 'C', 'G', 'T']\n",
        "    pattern =''\n",
        "    for i in range(k):\n",
        "        pattern += bases[index % 4]\n",
        "        index = index // 4\n",
        "    return pattern[::-1]\n"
      ],
      "metadata": {
        "id": "rqj0BGIOpeIX"
      },
      "execution_count": null,
      "outputs": []
    },
    {
      "cell_type": "code",
      "source": [
        "index=int(input())\n",
        "k = int(input())\n",
        "print(NumberToPattern(index, k))\n"
      ],
      "metadata": {
        "colab": {
          "base_uri": "https://localhost:8080/"
        },
        "id": "R3K6Kri_p2A3",
        "outputId": "c8287669-d709-4bce-a42b-f003971a5e58"
      },
      "execution_count": null,
      "outputs": [
        {
          "output_type": "stream",
          "name": "stdout",
          "text": [
            "45\n",
            "4\n",
            "AGTC\n"
          ]
        }
      ]
    },
    {
      "cell_type": "markdown",
      "source": [
        "BA2H (Implement DistanceBetweenPatternAndStrings)"
      ],
      "metadata": {
        "id": "S8w3rfYP7LLp"
      }
    },
    {
      "cell_type": "code",
      "source": [
        "def calculateHammingDistance(a, b):\n",
        "    hd = 0\n",
        "    for i in range(len(a)):\n",
        "        if a[i] != b[i]:\n",
        "            hd += 1\n",
        "    return hd"
      ],
      "metadata": {
        "id": "GVfIB14C7o_O"
      },
      "execution_count": null,
      "outputs": []
    },
    {
      "cell_type": "code",
      "source": [
        "def DistanceBetweenPatternAndStrings(pattern, strings):\n",
        "    distance = 0\n",
        "    k = len(pattern)\n",
        "    for string in strings:\n",
        "        hammingDistance = float(\"inf\")\n",
        "        for i in range(len(string)-k+1):\n",
        "            k_pattern = string[i:i+k]\n",
        "            hd = calculateHammingDistance(pattern, k_pattern)\n",
        "            if hammingDistance > hd:\n",
        "                hammingDistance = hd\n",
        "        distance += hammingDistance\n",
        "    return distance"
      ],
      "metadata": {
        "id": "sbjrzhAs73tb"
      },
      "execution_count": null,
      "outputs": []
    },
    {
      "cell_type": "code",
      "source": [
        "pattern = input() \n",
        "strings =input().split(' ')\n",
        "distance = DistanceBetweenPatternAndStrings(pattern, strings)\n",
        "print(distance)"
      ],
      "metadata": {
        "colab": {
          "base_uri": "https://localhost:8080/"
        },
        "id": "gZNy1Eoo75xw",
        "outputId": "20c89af1-5b88-4c8a-e247-60eb6fe46f1d"
      },
      "execution_count": null,
      "outputs": [
        {
          "output_type": "stream",
          "name": "stdout",
          "text": [
            "GTGGT\n",
            "TGGAGGCTTTGGCAACACAGACCCGTTAATTCATGGGAGAAGCAGGTAGCTCTATGGTGCGGATGTCTGAACTCAGGCATAATTCAGCTTGCCGCCGAGAGATTTA GGAAATCCGTTTCTATCAGTGCCGTGTTATCTCTTAGCCCGTCTCCAGTATCCGGGGACTACACGGAGGGTTGCCGAGTAAACGCTACTGAGGGGATGTGAGGAGA TTCGATATAGGTATTGTACGTAGGCCTTGCTTCATGAAAGACTCTAGCCTCCAATAGTTCGGTACGTTACAAGTCAATTGCCGCTGGACCTGTCGGCTGGATTCGT TCGGGCTCCCACCAAACCATGCATATTTCACAGGCCATTCTATGCTTCACCATACTTGTTTTTTTGCCGACCCTGCGCTAAGGAATGTAAGTTCGACGCAGCACTG CCAGGATAATCTCAGCAATTGGAGGAAGCAATTGTTTAAAAGCGCAAACATCTGGTCGCACGGACATACCATCAATGAAGCCATTTTATGAGACATGTGTAGCCCT CTCAAGACTGTAGTAGTATCTGGGCCTACAGTAGATCCATGTCTTCGACTTCTCGACGCTAATCGGTGCTGTAATCTTTTTGCCAGACCGAGGTTCCTGGCGTATC AACCCTGTATTCTTCTCCAAACTGGGATACTCGAGAGACAGACTTCCTCCATTGGCACAAGGCTTCTCGCTCGGATACATACGCTCCAGGCTGTGATTCTAAACGC GTTAAATCTAATTCGGAAAGAGGGCCACACATGTCGACTGATGTGGACGAAATGTTTGGGCACCTCTTCGCCCTAAGACTTCGGTAGAGACTTAAAAGCACAGGCA AACAAATCCGTCGAAGTGACCGAGATCAGGCGTCATATGAAAACAAGTCAAGCGATAAAATCACAGATATGGTATTGCGTCAATTACACTCCCTCTGAGTCAGACC ATTCAGGGGATGAGCAGGGACATTTCAGGACACCCTGACGTACAGCAGTGCTTCGCAATGAAATGGCGTATGCCAATTAGGCGCAACCCTAGCGGGGTGTGTAGTA ATTAATGCTATTGTGTTCGAGTGGGCATTTCTAATCTCGACCCGCGCGTTTACCGACCAGGCTTACTGGATTATGGTAGTACTTTCCAGACGGTACCTGGCTGGCA TTGCTGAGTTTGATACCCCTATCCCCATAGCCTTCAGGCGCCCCGGAGTAAAATGCCTTATACTGAATAGCTGCCTTACTGATCTGCCATATAACTGTGGAGTTGG GGCCTCCTAGATTACTATCAAGCCGCGTGGAGGCCCCTTAGCAAAAGATCGCGCTAAAGGTGCTGGGAGCCTGGAACGAGGCTGGACGAAAGAAAAACACGATGCG TTAATTGGGCAATAGGTCTAGCGGACACTCTATACGCTAACCATGAAGCTCTGCGGACAAAGTCGCAGAAGCAGTGGAATTGGGGTCTCTAACGAGTTCCGGGTCA CACAATTAGAAGCGAGTTGTTGACGGTCACCATCTCCGCTAAAACATGTGAGTATTCAATAAGGCTATGACTCCGGCTCAAGGATAGGTATGATTAGGGGCGTAGC ATATTCTAGATTGGGGTGCCCCGGTCCCATTCATAATACGATGGTACTGCCGGAACCATTCGGTTAGTCTTATGCGGTCTGATCTGAGGGACTCAATGATGAACTC CGTGCAACACCCGCTGCGGCTGTCATCGCGATTTTTCGATTCGCAATTCGTTATGCACCAGTTAAATTCGAGTTTAAAAGTTTTGGACCCCTATGGCCCACCGTTA CAACAACATCGGCTTGATCCGCCCCTCCGTTGATGCAGCTATTAGCGTCCAGAAGTAACTGCGCCTTCCAGTGTCGTTACGGCATTATATGCCCGTTGGTGTACGC TGAGCAATCTTTGCAATGTACTAAGTTCAGACTGCGTCTATATAATCCTAGCCCAGTATTCGTGGAACCGGCTAGGATGCGTCTTGCACTCGCTGTAGCTCCTTCG CCATGCCGAGTCAGTGACGCGAGCGGCTACCCTGTCCCCGAATCTGTGTCATAGGTACGCTTGTTGTTCACATACACGAGAGGATGTGAAACAGACAGAGCCCCTG TCTCACGTCTGCTGATGATGCGTGGGAAATGGAAATGAGGTTGGGACCGGTTTGTGCTCTCTTTACGATAAGACGAGGGCTGATACATCGATTAACTCGGACATGT GCCCCTGGGTGTGGCTTGTCCGAGAGTGCCGATGACTAAAGGACCAACTCGAAGACTAGACGGCTAGATCATTTTGATACTATTCTGCAGGATCTGAAAATTTCTT AGGGCTTTGATAGGTAGCGTGCGTCCATCATGTAAACTGTACTAATCCGGGAAGGAGTCAAAACGAGTGTGAACGTGACGTCATAGAGGATTGATAGTCTCATTGA GCAACAAATCGAATCTCTCGGCGGGTGGGTTCCGGTAGACAGGAACGGTCTGCCTCCTGCCCAGTGGTTGGCCTTATGCTTAGCTGCTATCAGAAACGGGGCTTGG TGAAAGCAAGAATGTCGACCATCTGCTCTGTTCCATAATTATAGTGGAAGGAAACGCAATCATCTTATAAATGTCTTTAATGGCCATCGCCGAACTGCGTTAAAGG GAACCCTATCCGGCGTACGGTGCCCCATCCGGCGGCTCCGCTGGCAACAGGTAAGCTATTTCAATGGGCCGTTCGCAGCCTCCGCTCCAAAAAGTGCTCCTAGCGC GCCTTGAAGCAGTGCTGACTACGTGTCGCTTTTTTTTTAATACAGAACGCCATTGAGTTATTGGGAAGACCGCTAGACCCGCGAAGTCGCGACATCAGGGTAAATA AGAGTAACGGGTTGGTGACCTTTGCGGGTAGAATAGCGTTATCAAACTATGTGATTCATAAGTTCATGCCAAGCTATTTCGCCCTTAAAACTCACACCCTTGCCAT CTACTTTCGAGACATTCCTAACCTAAAGGACGGGTGTGAGGTCGAATATCTGGCATTTCATGAAAAGAATCAATTGGTTGTCAAGGAGGCTAGCTGTGCAGAACTG TCGATACTTGTACGTGGTCTAAGATGTCCTAGAATTGCTGAATACGCTAAGCGTAGTGTGGTTGAATTCGCGTGACATGCTGATTGGTTATCTTATTAAGGCCAAG GGCGGAAGGGGCTACATGACTTGAGAGTCTGAAGGTCAATATCACTCCGCAGGAACGCGATACACGATTGATTACGTAACTGGGGAGTCAGAAAGCGCCGTCAAAA TAACCCGAGTGCGTTTACACCTACTGAACGGGCCGGATACTGCCACAGTCCCAGCCCGGGGCTAATGATTTGTCGACTTTTTTGGACTGACGAAGACCAGGGTAGG ATTCTTGTCTAGCGACAGTTATGGACTAGAGATGTCTCTGATTTCAAAGGCACCACCTTAGTCCAAAGGCAATCGGTTGCCGCACTAAAAGAAGGACCTTTAGAAT CCGTGTGGGTAGATTATCATGTTACGAACCATGCATCCCGCCCGAACAGTCGAAGATCTTATGACCTCCCTTTCGTAGAGCCTACCTCCGAGCATTGCTCAGCTGC CATATGCCAGCTGTCTATAACTGGCATCGCAGAAGCACCGTTGTCATGGAAAGACATACCCTAGCGAACAGCGGGACTGTAGGGTTCACTAAAAATACATAGCCAC\n",
            "40\n"
          ]
        }
      ]
    },
    {
      "cell_type": "markdown",
      "source": [
        "BA2B\n"
      ],
      "metadata": {
        "id": "CXWR3pcX0o6e"
      }
    },
    {
      "cell_type": "code",
      "source": [
        "def haming_dis1(x,y):\n",
        "  ans=0\n",
        "  \n",
        "  for i in range(len(x)):\n",
        "    if x[i]!=y[i]:\n",
        "      ans+=1\n",
        "\n",
        "  return ans\n"
      ],
      "metadata": {
        "id": "uyEEBnG_8UAB"
      },
      "execution_count": null,
      "outputs": []
    },
    {
      "cell_type": "code",
      "source": [
        "def numTo_Pattern(x,y):\n",
        "  ans=[]\n",
        "  ans1=[]\n",
        "\n",
        "  while(x>0):\n",
        "    t=x\n",
        "    ans.append(int(t%4));\n",
        "    x=int(x/4)\n",
        "\n",
        "\n",
        "  s=''\n",
        "  z=ans\n",
        "  for i in range(len(z)):\n",
        "    if z[i]==0:\n",
        "      s+='A'\n",
        "    if z[i]==1:\n",
        "      s+='C'\n",
        "    if z[i]==2:\n",
        "      s+='G'\n",
        "    if z[i]==3:\n",
        "      s+='T'\n",
        "\n",
        "  k=len(z)\n",
        "  while(k<y):\n",
        "    s+='A'\n",
        "    k+=1\n",
        "\n",
        "  s1=''\n",
        "  s1=s[::-1]\n",
        "     \n",
        "  return s1"
      ],
      "metadata": {
        "id": "vELkZN4YyB1k"
      },
      "execution_count": null,
      "outputs": []
    },
    {
      "cell_type": "code",
      "source": [
        "def kmer_freq(x,y):\n",
        "  ans=pow(4,x)\n",
        "  ans1=[]\n",
        "  ans2=[]\n",
        "  count={}\n",
        "  for i in range(ans):\n",
        "    ans1.append(numTo_Pattern(i,x))\n",
        "\n",
        "\n",
        "  \n",
        "\n",
        "\n",
        " \n",
        "  ans4=[]\n",
        "\n",
        "  for i in range(len(ans1)):\n",
        "    k1=0      \n",
        "    for s in y:\n",
        "      k=x\n",
        "      for j in range(len(s)-x+1):\n",
        "        if k> haming_dis1(ans1[i],s[j:j+x]):\n",
        "          k=(haming_dis1(ans1[i],s[j:j+x]))\n",
        "\n",
        "      k1+=k\n",
        "    ans4.append(k1)    \n",
        "\n",
        "\n",
        "  \n",
        "  k2=len(y)\n",
        "  for i in range(len(ans4)):\n",
        "    if k2>ans4[i]:\n",
        "      k2=ans4[i] \n",
        "\n",
        "\n",
        "  for i in range(len(ans4)):\n",
        "    if k2==ans4[i]:\n",
        "      print(ans1[i])\n",
        "      break"
      ],
      "metadata": {
        "id": "ljoo1lijyOdN"
      },
      "execution_count": null,
      "outputs": []
    },
    {
      "cell_type": "code",
      "source": [
        "x=int(input())\n",
        "y=input().split( )\n",
        "kmer_freq(x,y)\n"
      ],
      "metadata": {
        "colab": {
          "base_uri": "https://localhost:8080/"
        },
        "id": "WdfWdgmgybBB",
        "outputId": "9b4fd4c9-3b9b-4629-97c3-5bb9ecdaba0a"
      },
      "execution_count": null,
      "outputs": [
        {
          "output_type": "stream",
          "name": "stdout",
          "text": [
            "3\n",
            "AAATTGACGCAT GACGACCACGTT CGTCAGCGCCTG GCTGAGCACCGG AGTACGGGACAG\n",
            "ACG\n"
          ]
        }
      ]
    }
  ]
}